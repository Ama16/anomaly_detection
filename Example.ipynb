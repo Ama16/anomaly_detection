{
 "cells": [
  {
   "cell_type": "code",
   "execution_count": 1,
   "metadata": {},
   "outputs": [],
   "source": [
    "from anomaly_detection import anomaly_detection, get_score\n",
    "import json\n",
    "import pickle\n",
    "import numpy as np"
   ]
  },
  {
   "cell_type": "code",
   "execution_count": null,
   "metadata": {},
   "outputs": [],
   "source": [
    "PATH_TO_NAB_DATA = None #change it"
   ]
  },
  {
   "cell_type": "code",
   "execution_count": 35,
   "metadata": {},
   "outputs": [],
   "source": [
    "import pandas as pd\n",
    "\n",
    "all_files=[]\n",
    "import os\n",
    "for root, dirs, files in os.walk(PATH_TO_NAB_DATA):\n",
    "    for file in files:\n",
    "        if file.endswith(\".csv\"):\n",
    "             all_files.append(os.path.join(root, file))\n",
    "with open(PATH_TO_NAB_DATA) as tt:\n",
    "    accidents = json.load(tt)"
   ]
  },
  {
   "cell_type": "code",
   "execution_count": 66,
   "metadata": {},
   "outputs": [],
   "source": [
    "SAVE_PATH = None #change it\n",
    "METHOD = 'NN'\n",
    "#METHOD = 'LR'\n",
    "#METHOD = 'arima'\n",
    "ORDER = 10\n",
    "LRATE = 1e-7\n",
    "K = 3\n",
    "#K = None"
   ]
  },
  {
   "cell_type": "code",
   "execution_count": null,
   "metadata": {
    "scrolled": true
   },
   "outputs": [],
   "source": [
    "a = anomaly_detection(METHOD)\n",
    "a.save_tensors(all_files, ORDER, K=K, save_path=SAVE_PATH, lrate=LRATE)"
   ]
  },
  {
   "cell_type": "markdown",
   "metadata": {},
   "source": [
    "<h3> Ответы"
   ]
  },
  {
   "cell_type": "code",
   "execution_count": 68,
   "metadata": {},
   "outputs": [],
   "source": [
    "with open(SAVE_PATH, 'rb') as handle:\n",
    "    list_of_tensor = pickle.load(handle)"
   ]
  },
  {
   "cell_type": "code",
   "execution_count": null,
   "metadata": {},
   "outputs": [],
   "source": [
    "for No_metric in range(1,6):\n",
    "    list_metrics=[]\n",
    "    for i in range(len(all_files)):\n",
    "        df = pd.read_csv(all_files[i],index_col = 'timestamp', parse_dates=True)\n",
    "        acci = accidents[all_files[i][32:].replace('\\\\','/')]\n",
    "        \n",
    "        a = anomaly_detection(METHOD)\n",
    "        a.set_data(df)\n",
    "        a.tensor = list_of_tensor[i]\n",
    "        a.proc_tensor(No_metric=No_metric)\n",
    "\n",
    "        a1,a2,a3 = a.evaluate_nab(acci)\n",
    "        list_metrics.append(np.array([a1,a2,a3]))\n",
    "    print('======================')\n",
    "    print('======================')\n",
    "    get_score(list_metrics)\n",
    "    print('======================')\n",
    "    print('======================')"
   ]
  }
 ],
 "metadata": {
  "kernelspec": {
   "display_name": "Python 3",
   "language": "python",
   "name": "python3"
  },
  "language_info": {
   "codemirror_mode": {
    "name": "ipython",
    "version": 3
   },
   "file_extension": ".py",
   "mimetype": "text/x-python",
   "name": "python",
   "nbconvert_exporter": "python",
   "pygments_lexer": "ipython3",
   "version": "3.7.4"
  }
 },
 "nbformat": 4,
 "nbformat_minor": 2
}
